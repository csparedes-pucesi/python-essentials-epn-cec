{
 "cells": [
  {
   "cell_type": "markdown",
   "id": "142ef234",
   "metadata": {},
   "source": [
    "# Manual de Python"
   ]
  },
  {
   "cell_type": "markdown",
   "id": "42617d0b",
   "metadata": {},
   "source": [
    "## Este es un manual personalizado en Jupyter Notebook"
   ]
  },
  {
   "cell_type": "markdown",
   "id": "3f1a0d32",
   "metadata": {},
   "source": [
    "#### Elaborado por: Cristian Paredes"
   ]
  }
 ],
 "metadata": {
  "kernelspec": {
   "display_name": "Python 3 (ipykernel)",
   "language": "python",
   "name": "python3"
  },
  "language_info": {
   "codemirror_mode": {
    "name": "ipython",
    "version": 3
   },
   "file_extension": ".py",
   "mimetype": "text/x-python",
   "name": "python",
   "nbconvert_exporter": "python",
   "pygments_lexer": "ipython3",
   "version": "3.9.13"
  }
 },
 "nbformat": 4,
 "nbformat_minor": 5
}
